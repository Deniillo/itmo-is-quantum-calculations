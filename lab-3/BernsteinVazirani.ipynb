{
 "cells": [
  {
   "cell_type": "code",
   "id": "initial_id",
   "metadata": {
    "collapsed": true,
    "ExecuteTime": {
     "end_time": "2025-04-22T21:47:03.979854Z",
     "start_time": "2025-04-22T21:47:01.559235Z"
    }
   },
   "source": [
    "from qiskit import QuantumCircuit, transpile\n",
    "from qiskit_aer import Aer\n",
    "\n",
    "def create_oracle(number):\n",
    "    binary = bin(number)[2:]\n",
    "    oracle = QuantumCircuit(len(binary) + 1)\n",
    "    \n",
    "    for i, bit in enumerate(reversed(binary)):\n",
    "        if bit == '1':\n",
    "            oracle.cx(i, len(binary))\n",
    "    \n",
    "    oracle_inst = oracle.to_instruction()\n",
    "    oracle_inst.name = \"Oracle\"\n",
    "    return oracle_inst\n",
    "\n",
    "def build_circuit(oracle):\n",
    "    n = oracle.num_qubits - 1\n",
    "    \n",
    "    qc = QuantumCircuit(n+1, n)\n",
    "    \n",
    "    for qubit in range(n):\n",
    "        qc.h(qubit)\n",
    "    \n",
    "    qc.x(n)\n",
    "    qc.h(n)\n",
    "    qc.barrier()\n",
    "    \n",
    "    qc.append(oracle, range(n+1))\n",
    "    qc.barrier()\n",
    "    \n",
    "    for qubit in range(n):\n",
    "        qc.h(qubit)\n",
    "    \n",
    "    for qubit in range(n):\n",
    "        qc.measure(qubit, qubit)\n",
    "\n",
    "    print(qc.draw(output='text'))\n",
    "    \n",
    "    return qc\n",
    "\n",
    "def run_algorithm(secret_number):\n",
    "    oracle = create_oracle(secret_number)\n",
    "    circuit = build_circuit(oracle)\n",
    "\n",
    "    simulator = Aer.get_backend('aer_simulator')\n",
    "    compiled = transpile(circuit, simulator)\n",
    "\n",
    "    result = simulator.run(compiled).result()\n",
    "\n",
    "    counts = result.get_counts()\n",
    "    answer = list(counts.keys())[0]\n",
    "    return int(answer, 2)\n",
    "\n",
    "\n",
    "if __name__ == \"__main__\":\n",
    "    number = int(input(\"Введите секретное число: \"))\n",
    "    result = run_algorithm(number)\n",
    "    print(f\"Найдено число: {result}\")"
   ],
   "outputs": [
    {
     "name": "stdout",
     "output_type": "stream",
     "text": [
      "     ┌───┐      ░ ┌─────────┐ ░ ┌───┐┌─┐      \n",
      "q_0: ┤ H ├──────░─┤0        ├─░─┤ H ├┤M├──────\n",
      "     ├───┤      ░ │         │ ░ ├───┤└╥┘┌─┐   \n",
      "q_1: ┤ H ├──────░─┤1        ├─░─┤ H ├─╫─┤M├───\n",
      "     ├───┤      ░ │  Oracle │ ░ ├───┤ ║ └╥┘┌─┐\n",
      "q_2: ┤ H ├──────░─┤2        ├─░─┤ H ├─╫──╫─┤M├\n",
      "     ├───┤┌───┐ ░ │         │ ░ └───┘ ║  ║ └╥┘\n",
      "q_3: ┤ X ├┤ H ├─░─┤3        ├─░───────╫──╫──╫─\n",
      "     └───┘└───┘ ░ └─────────┘ ░       ║  ║  ║ \n",
      "c: 3/═════════════════════════════════╩══╩══╩═\n",
      "                                      0  1  2 \n",
      "Найдено число: 7\n"
     ]
    }
   ],
   "execution_count": 44
  }
 ],
 "metadata": {
  "kernelspec": {
   "display_name": "Python 3",
   "language": "python",
   "name": "python3"
  },
  "language_info": {
   "codemirror_mode": {
    "name": "ipython",
    "version": 2
   },
   "file_extension": ".py",
   "mimetype": "text/x-python",
   "name": "python",
   "nbconvert_exporter": "python",
   "pygments_lexer": "ipython2",
   "version": "2.7.6"
  }
 },
 "nbformat": 4,
 "nbformat_minor": 5
}
