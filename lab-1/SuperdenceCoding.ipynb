{
 "cells": [
  {
   "cell_type": "code",
   "execution_count": 1,
   "id": "d488eec5-44b7-4cd8-8cbc-8b1d15589a2c",
   "metadata": {},
   "outputs": [
    {
     "ename": "ModuleNotFoundError",
     "evalue": "No module named 'qiskit_aer'",
     "output_type": "error",
     "traceback": [
      "\u001b[31m---------------------------------------------------------------------------\u001b[39m",
      "\u001b[31mModuleNotFoundError\u001b[39m                       Traceback (most recent call last)",
      "\u001b[36mCell\u001b[39m\u001b[36m \u001b[39m\u001b[32mIn[1]\u001b[39m\u001b[32m, line 3\u001b[39m\n\u001b[32m      1\u001b[39m \u001b[38;5;28;01mfrom\u001b[39;00m\u001b[38;5;250m \u001b[39m\u001b[34;01mqiskit\u001b[39;00m\u001b[38;5;250m \u001b[39m\u001b[38;5;28;01mimport\u001b[39;00m QuantumCircuit, transpile\n\u001b[32m      2\u001b[39m \u001b[38;5;28;01mfrom\u001b[39;00m\u001b[38;5;250m \u001b[39m\u001b[34;01mqiskit\u001b[39;00m\u001b[34;01m.\u001b[39;00m\u001b[34;01mvisualization\u001b[39;00m\u001b[38;5;250m \u001b[39m\u001b[38;5;28;01mimport\u001b[39;00m plot_histogram\n\u001b[32m----> \u001b[39m\u001b[32m3\u001b[39m \u001b[38;5;28;01mfrom\u001b[39;00m\u001b[38;5;250m \u001b[39m\u001b[34;01mqiskit_aer\u001b[39;00m\u001b[38;5;250m \u001b[39m\u001b[38;5;28;01mimport\u001b[39;00m Aer\n",
      "\u001b[31mModuleNotFoundError\u001b[39m: No module named 'qiskit_aer'"
     ]
    }
   ],
   "source": [
    "from qiskit import QuantumCircuit, transpile\n",
    "from qiskit.visualization import plot_histogram\n",
    "from qiskit_aer import Aer"
   ]
  },
  {
   "cell_type": "code",
   "execution_count": null,
   "id": "be5159f7-8bfa-4135-9d0f-7462af2dc06b",
   "metadata": {},
   "outputs": [],
   "source": [
    "def create_bell_pair():\n",
    "    qc = QuantumCircuit(2)\n",
    "    qc.h(1)\n",
    "    qc.cx(1, 0)\n",
    "    return qc"
   ]
  },
  {
   "cell_type": "code",
   "execution_count": null,
   "id": "2796b4cf-0220-4eb5-8250-bfbc9600a696",
   "metadata": {},
   "outputs": [],
   "source": [
    "# Кодирует двух битное сообщение, используя сверхплотное квантовое кодирование\n",
    "# qc - QuantumCircuit, qubit - к какому кубиту добавлять врата, msg - двухбитное сообщение\n",
    "# Возвращает ошибку, если входные параметры неверные\n",
    "\n",
    "def encode_message(qc, qubit, msg):\n",
    "    if len(msg) != 2 or not set(msg).issubset({\"0\",\"1\"}):\n",
    "        raise ValueError(f\"message '{msg}' is invalid\")\n",
    "    if msg[1] == \"1\":\n",
    "        qc.x(qubit)\n",
    "    if msg[0] == \"1\":\n",
    "        qc.z(qubit)\n",
    "    return qc\n"
   ]
  },
  {
   "cell_type": "code",
   "execution_count": null,
   "id": "62f5f354-81f7-41ae-a3ad-9f5b589a0496",
   "metadata": {},
   "outputs": [],
   "source": [
    "# Декодирует сообщение\n",
    "def decode_message(qc):\n",
    "    qc.cx(1, 0)\n",
    "    qc.h(1)\n",
    "    return qc"
   ]
  },
  {
   "cell_type": "code",
   "execution_count": null,
   "id": "054cc791-7880-4f47-858c-57c6df52614d",
   "metadata": {},
   "outputs": [],
   "source": [
    "# Чарли создает запутанную пару между Алисой и Бобом\n",
    "qc = create_bell_pair()\n",
    "\n",
    "# Для визуального азделения\n",
    "qc.barrier()\n",
    "\n",
    "# В этот момент кубит 0 переходит к Алисе, а кубит 1 - к Бобу.\n",
    "\n",
    "# Далее Алиса кодирует свое сообщение. В данном случае мы хотим отправить сообщение '10'\n",
    "message = '10'\n",
    "qc = encode_message(qc, 1, message)\n",
    "qc.barrier()\n",
    "\n",
    "# После получения кубита 0 Боб применяет протокол восстановления:\n",
    "qc = decode_message(qc)\n",
    "\n",
    "qc.measure_all()\n",
    "\n",
    "qc.draw()\n"
   ]
  },
  {
   "cell_type": "code",
   "execution_count": null,
   "id": "ff131f25-30bc-40b9-9ec0-96dbd00ac4a1",
   "metadata": {},
   "outputs": [],
   "source": [
    "aer_sim = Aer.get_backend('aer_simulator')\n",
    "result = aer_sim.run(qc).result()\n",
    "counts = result.get_counts(qc)\n",
    "print(counts)\n",
    "plot_histogram(counts)"
   ]
  }
 ],
 "metadata": {
  "kernelspec": {
   "display_name": "Python 3 (ipykernel)",
   "language": "python",
   "name": "python3"
  },
  "language_info": {
   "codemirror_mode": {
    "name": "ipython",
    "version": 3
   },
   "file_extension": ".py",
   "mimetype": "text/x-python",
   "name": "python",
   "nbconvert_exporter": "python",
   "pygments_lexer": "ipython3",
   "version": "3.13.2"
  }
 },
 "nbformat": 4,
 "nbformat_minor": 5
}
