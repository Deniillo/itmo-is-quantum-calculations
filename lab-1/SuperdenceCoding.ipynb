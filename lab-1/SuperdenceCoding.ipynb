{
 "cells": [
  {
   "cell_type": "code",
   "id": "d488eec5-44b7-4cd8-8cbc-8b1d15589a2c",
   "metadata": {
    "ExecuteTime": {
     "end_time": "2025-03-18T22:54:03.897663Z",
     "start_time": "2025-03-18T22:54:03.892824Z"
    }
   },
   "source": [
    "from qiskit import QuantumCircuit, transpile\n",
    "from qiskit.visualization import plot_histogram\n",
    "from qiskit_aer import Aer"
   ],
   "outputs": [],
   "execution_count": 2
  },
  {
   "cell_type": "code",
   "id": "be5159f7-8bfa-4135-9d0f-7462af2dc06b",
   "metadata": {
    "ExecuteTime": {
     "end_time": "2025-03-18T22:54:18.387928Z",
     "start_time": "2025-03-18T22:54:18.382387Z"
    }
   },
   "source": [
    "def create_bell_pair():\n",
    "    qc = QuantumCircuit(2)\n",
    "    qc.h(1)\n",
    "    qc.cx(1, 0)\n",
    "    return qc"
   ],
   "outputs": [],
   "execution_count": 4
  },
  {
   "cell_type": "code",
   "id": "2796b4cf-0220-4eb5-8250-bfbc9600a696",
   "metadata": {
    "ExecuteTime": {
     "end_time": "2025-03-18T22:54:19.737383Z",
     "start_time": "2025-03-18T22:54:19.732211Z"
    }
   },
   "source": [
    "# Кодирует двух битное сообщение, используя сверхплотное квантовое кодирование\n",
    "# qc - QuantumCircuit, qubit - к какому кубиту добавлять врата, msg - двухбитное сообщение\n",
    "# Возвращает ошибку, если входные параметры неверные\n",
    "\n",
    "def encode_message(qc, qubit, msg):\n",
    "    if len(msg) != 2 or not set(msg).issubset({\"0\",\"1\"}):\n",
    "        raise ValueError(f\"message '{msg}' is invalid\")\n",
    "    if msg[1] == \"1\":\n",
    "        qc.x(qubit)\n",
    "    if msg[0] == \"1\":\n",
    "        qc.z(qubit)\n",
    "    return qc\n"
   ],
   "outputs": [],
   "execution_count": 5
  },
  {
   "cell_type": "code",
   "id": "62f5f354-81f7-41ae-a3ad-9f5b589a0496",
   "metadata": {
    "ExecuteTime": {
     "end_time": "2025-03-18T22:54:21.621482Z",
     "start_time": "2025-03-18T22:54:21.618542Z"
    }
   },
   "source": [
    "# Декодирует сообщение\n",
    "def decode_message(qc):\n",
    "    qc.cx(1, 0)\n",
    "    qc.h(1)\n",
    "    return qc"
   ],
   "outputs": [],
   "execution_count": 6
  },
  {
   "cell_type": "code",
   "id": "054cc791-7880-4f47-858c-57c6df52614d",
   "metadata": {
    "ExecuteTime": {
     "end_time": "2025-03-18T22:54:22.594868Z",
     "start_time": "2025-03-18T22:54:22.560084Z"
    }
   },
   "source": [
    "# Чарли создает запутанную пару между Алисой и Бобом\n",
    "qc = create_bell_pair()\n",
    "\n",
    "# Для визуального азделения\n",
    "qc.barrier()\n",
    "\n",
    "# В этот момент кубит 0 переходит к Алисе, а кубит 1 - к Бобу.\n",
    "\n",
    "# Далее Алиса кодирует свое сообщение. В данном случае мы хотим отправить сообщение '10'\n",
    "message = '10'\n",
    "qc = encode_message(qc, 1, message)\n",
    "qc.barrier()\n",
    "\n",
    "# После получения кубита 0 Боб применяет протокол восстановления:\n",
    "qc = decode_message(qc)\n",
    "\n",
    "qc.measure_all()\n",
    "\n",
    "qc.draw()\n"
   ],
   "outputs": [
    {
     "data": {
      "text/plain": [
       "             ┌───┐ ░       ░ ┌───┐      ░ ┌─┐   \n",
       "   q_0: ─────┤ X ├─░───────░─┤ X ├──────░─┤M├───\n",
       "        ┌───┐└─┬─┘ ░ ┌───┐ ░ └─┬─┘┌───┐ ░ └╥┘┌─┐\n",
       "   q_1: ┤ H ├──■───░─┤ Z ├─░───■──┤ H ├─░──╫─┤M├\n",
       "        └───┘      ░ └───┘ ░      └───┘ ░  ║ └╥┘\n",
       "meas: 2/═══════════════════════════════════╩══╩═\n",
       "                                           0  1 "
      ],
      "text/html": [
       "<pre style=\"word-wrap: normal;white-space: pre;background: #fff0;line-height: 1.1;font-family: &quot;Courier New&quot;,Courier,monospace\">             ┌───┐ ░       ░ ┌───┐      ░ ┌─┐   \n",
       "   q_0: ─────┤ X ├─░───────░─┤ X ├──────░─┤M├───\n",
       "        ┌───┐└─┬─┘ ░ ┌───┐ ░ └─┬─┘┌───┐ ░ └╥┘┌─┐\n",
       "   q_1: ┤ H ├──■───░─┤ Z ├─░───■──┤ H ├─░──╫─┤M├\n",
       "        └───┘      ░ └───┘ ░      └───┘ ░  ║ └╥┘\n",
       "meas: 2/═══════════════════════════════════╩══╩═\n",
       "                                           0  1 </pre>"
      ]
     },
     "execution_count": 7,
     "metadata": {},
     "output_type": "execute_result"
    }
   ],
   "execution_count": 7
  },
  {
   "cell_type": "code",
   "id": "ff131f25-30bc-40b9-9ec0-96dbd00ac4a1",
   "metadata": {
    "ExecuteTime": {
     "end_time": "2025-03-18T22:55:30.090591Z",
     "start_time": "2025-03-18T22:55:30.033227Z"
    }
   },
   "source": [
    "aer_sim = Aer.get_backend('aer_simulator')\n",
    "result = aer_sim.run(qc).result()\n",
    "counts = result.get_counts(qc)\n",
    "print(f\"message was '{message}' -> the measurement result is {counts}\")\n",
    "plot_histogram(counts)"
   ],
   "outputs": [
    {
     "name": "stdout",
     "output_type": "stream",
     "text": [
      "message was '10' -> the measurement result is {'10': 1024}\n"
     ]
    },
    {
     "data": {
      "text/plain": [
       "<Figure size 640x480 with 1 Axes>"
      ],
      "image/png": "[encoded data removed]"
     },
     "execution_count": 9,
     "metadata": {},
     "output_type": "execute_result"
    }
   ],
   "execution_count": 9
  }
 ],
 "metadata": {
  "kernelspec": {
   "display_name": "Python 3 (ipykernel)",
   "language": "python",
   "name": "python3"
  },
  "language_info": {
   "codemirror_mode": {
    "name": "ipython",
    "version": 3
   },
   "file_extension": ".py",
   "mimetype": "text/x-python",
   "name": "python",
   "nbconvert_exporter": "python",
   "pygments_lexer": "ipython3",
   "version": "3.13.2"
  }
 },
 "nbformat": 4,
 "nbformat_minor": 5
}
